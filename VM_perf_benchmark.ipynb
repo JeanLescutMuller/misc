{
 "cells": [
  {
   "cell_type": "code",
   "execution_count": 1,
   "id": "7eadfab9-0c0c-4b24-9e3b-6d9ccbec9a20",
   "metadata": {},
   "outputs": [
    {
     "name": "stdout",
     "output_type": "stream",
     "text": [
      "\u001b[33mWARNING: Retrying (Retry(total=4, connect=None, read=None, redirect=None, status=None)) after connection broken by 'NewConnectionError('<pip._vendor.urllib3.connection.HTTPSConnection object at 0x7f5631e52250>: Failed to establish a new connection: [Errno 101] Network is unreachable')': /simple/ai-benchmark/\u001b[0m\u001b[33m\n",
      "\u001b[0m\u001b[33mWARNING: Retrying (Retry(total=3, connect=None, read=None, redirect=None, status=None)) after connection broken by 'NewConnectionError('<pip._vendor.urllib3.connection.HTTPSConnection object at 0x7f5631e52690>: Failed to establish a new connection: [Errno 101] Network is unreachable')': /simple/ai-benchmark/\u001b[0m\u001b[33m\n",
      "\u001b[0m\u001b[33mWARNING: Retrying (Retry(total=2, connect=None, read=None, redirect=None, status=None)) after connection broken by 'NewConnectionError('<pip._vendor.urllib3.connection.HTTPSConnection object at 0x7f5631e52910>: Failed to establish a new connection: [Errno 101] Network is unreachable')': /simple/ai-benchmark/\u001b[0m\u001b[33m\n",
      "\u001b[0m^C\n",
      "\u001b[31mERROR: Operation cancelled by user\u001b[0m\u001b[31m\n",
      "\u001b[0mNote: you may need to restart the kernel to use updated packages.\n"
     ]
    }
   ],
   "source": [
    "%pip install ai-benchmark tensorflow"
   ]
  },
  {
   "cell_type": "code",
   "execution_count": 1,
   "id": "95e6dc04-7fc5-496c-881a-841d3723b953",
   "metadata": {},
   "outputs": [
    {
     "name": "stderr",
     "output_type": "stream",
     "text": [
      "2023-07-06 15:42:52.212663: I tensorflow/core/platform/cpu_feature_guard.cc:193] This TensorFlow binary is optimized with oneAPI Deep Neural Network Library (oneDNN) to use the following CPU instructions in performance-critical operations:  AVX2 FMA\n",
      "To enable them in other operations, rebuild TensorFlow with the appropriate compiler flags.\n",
      "2023-07-06 15:42:57.773451: W tensorflow/compiler/xla/stream_executor/platform/default/dso_loader.cc:64] Could not load dynamic library 'libnvinfer.so.7'; dlerror: libnvinfer.so.7: cannot open shared object file: No such file or directory; LD_LIBRARY_PATH: /usr/local/cuda/lib64:/usr/local/nccl2/lib:/usr/local/cuda/extras/CUPTI/lib64\n",
      "2023-07-06 15:42:57.774411: W tensorflow/compiler/xla/stream_executor/platform/default/dso_loader.cc:64] Could not load dynamic library 'libnvinfer_plugin.so.7'; dlerror: libnvinfer_plugin.so.7: cannot open shared object file: No such file or directory; LD_LIBRARY_PATH: /usr/local/cuda/lib64:/usr/local/nccl2/lib:/usr/local/cuda/extras/CUPTI/lib64\n",
      "2023-07-06 15:42:57.774426: W tensorflow/compiler/tf2tensorrt/utils/py_utils.cc:38] TF-TRT Warning: Cannot dlopen some TensorRT libraries. If you would like to use Nvidia GPU with TensorRT, please make sure the missing libraries mentioned above are installed properly.\n"
     ]
    }
   ],
   "source": [
    "from ai_benchmark import AIBenchmark\n",
    "import time"
   ]
  },
  {
   "cell_type": "code",
   "execution_count": 2,
   "id": "3f77e976-d82a-40a8-8cda-8105b16822b1",
   "metadata": {},
   "outputs": [
    {
     "name": "stdout",
     "output_type": "stream",
     "text": [
      "\n",
      ">>   AI-Benchmark-v.0.1.2   \n",
      ">>   Let the AI Games begin..\n",
      "\n",
      "*  TF Version: 2.11.0\n",
      "*  Platform: Linux-4.19.0-24-cloud-amd64-x86_64-with-debian-10.13\n",
      "*  CPU: N/A\n",
      "*  CPU RAM: 15 GB\n",
      "*  GPU/0: Tesla T4\n",
      "*  GPU RAM: 13.3 GB\n",
      "*  CUDA Version: 11.3\n",
      "*  CUDA Build: V11.3.109\n",
      "\n",
      "The benchmark is running...\n",
      "The tests might take up to 20 minutes\n",
      "Please don't interrupt the script\n",
      "\n",
      "1/19. MobileNet-V2\n",
      "\n",
      "1.1 - inference | batch=50, size=224x224: 76.0 ± 7.1 ms\n",
      "1.2 - training  | batch=50, size=224x224: 229 ± 4 ms\n",
      "\n",
      "2/19. Inception-V3\n",
      "\n",
      "2.1 - inference | batch=20, size=346x346: 113 ± 2 ms\n",
      "2.2 - training  | batch=20, size=346x346: 394 ± 3 ms\n",
      "\n",
      "3/19. Inception-V4\n",
      "\n",
      "3.1 - inference | batch=10, size=346x346: 103 ± 1 ms\n",
      "3.2 - training  | batch=10, size=346x346: 403 ± 1 ms\n",
      "\n",
      "4/19. Inception-ResNet-V2\n",
      "\n",
      "4.1 - inference | batch=10, size=346x346: 136.0 ± 1.0 ms\n",
      "4.2 - training  | batch=8, size=346x346: 413 ± 4 ms\n",
      "\n",
      "5/19. ResNet-V2-50\n",
      "\n",
      "5.1 - inference | batch=10, size=346x346: 67.6 ± 1.5 ms\n",
      "5.2 - training  | batch=10, size=346x346: 233 ± 2 ms\n",
      "\n",
      "6/19. ResNet-V2-152\n",
      "\n",
      "6.1 - inference | batch=10, size=256x256: 86.6 ± 1.3 ms\n",
      "6.2 - training  | batch=10, size=256x256: 302 ± 1 ms\n",
      "\n",
      "7/19. VGG-16\n",
      "\n",
      "7.1 - inference | batch=20, size=224x224: 152 ± 2 ms\n",
      "7.2 - training  | batch=2, size=224x224: 233 ± 1 ms\n",
      "\n",
      "8/19. SRCNN 9-5-5\n",
      "\n",
      "8.1 - inference | batch=10, size=512x512: 127 ± 2 ms\n",
      "8.2 - inference | batch=1, size=1536x1536: 136 ± 1 ms\n",
      "8.3 - training  | batch=10, size=512x512: 368 ± 5 ms\n",
      "\n",
      "9/19. VGG-19 Super-Res\n",
      "\n",
      "9.1 - inference | batch=10, size=256x256: 159 ± 1 ms\n",
      "9.2 - inference | batch=1, size=1024x1024: 328 ± 5 ms\n",
      "9.3 - training  | batch=10, size=224x224: 461 ± 5 ms\n",
      "\n",
      "10/19. ResNet-SRGAN\n",
      "\n",
      "10.1 - inference | batch=10, size=512x512: 222 ± 1 ms\n",
      "10.2 - inference | batch=1, size=1536x1536: 194 ± 1 ms\n",
      "10.3 - training  | batch=5, size=512x512: 300 ± 1 ms\n",
      "\n",
      "11/19. ResNet-DPED\n",
      "\n",
      "11.1 - inference | batch=10, size=256x256: 222 ± 2 ms\n",
      "11.2 - inference | batch=1, size=1024x1024: 394 ± 1 ms\n",
      "11.3 - training  | batch=15, size=128x128: 329 ± 1 ms\n",
      "\n",
      "12/19. U-Net\n",
      "\n",
      "12.1 - inference | batch=4, size=512x512: 464 ± 4 ms\n",
      "12.2 - inference | batch=1, size=1024x1024: 456 ± 3 ms\n",
      "12.3 - training  | batch=4, size=256x256: 409 ± 1 ms\n",
      "\n",
      "13/19. Nvidia-SPADE\n",
      "\n",
      "13.1 - inference | batch=5, size=128x128: 182.9 ± 0.8 ms\n",
      "13.2 - training  | batch=1, size=128x128: 268 ± 1 ms\n",
      "\n",
      "14/19. ICNet\n",
      "\n",
      "14.1 - inference | batch=5, size=1024x1536: 164.4 ± 0.8 ms\n",
      "14.2 - training  | batch=10, size=1024x1536: 626 ± 4 ms\n",
      "\n",
      "15/19. PSPNet\n",
      "\n",
      "15.1 - inference | batch=5, size=720x720: 925 ± 30 ms\n",
      "15.2 - training  | batch=1, size=512x512: 304 ± 3 ms\n",
      "\n",
      "16/19. DeepLab\n",
      "\n",
      "16.1 - inference | batch=2, size=512x512: 235 ± 2 ms\n",
      "16.2 - training  | batch=1, size=384x384: 233 ± 1 ms\n",
      "\n",
      "17/19. Pixel-RNN\n",
      "\n",
      "17.1 - inference | batch=50, size=64x64: 858 ± 45 ms\n",
      "17.2 - training  | batch=10, size=64x64: 3528 ± 25 ms\n",
      "\n",
      "18/19. LSTM-Sentiment\n",
      "\n",
      "18.1 - inference | batch=100, size=1024x300: 777 ± 18 ms\n",
      "18.2 - training  | batch=10, size=1024x300: 1697 ± 18 ms\n",
      "\n",
      "19/19. GNMT-Translation\n",
      "\n",
      "19.1 - inference | batch=1, size=1x20: 201 ± 5 ms\n",
      "\n",
      "Device Inference Score: 6639\n",
      "Device Training Score: 7201\n",
      "Device AI Score: 13840\n",
      "\n",
      "For more information and results, please visit http://ai-benchmark.com/alpha\n",
      "\n"
     ]
    }
   ],
   "source": [
    "start = time.time()\n",
    "benchmark = AIBenchmark()\n",
    "results = benchmark.run()\n",
    "end = time.time()"
   ]
  },
  {
   "cell_type": "code",
   "execution_count": 3,
   "id": "39b34aae-64a5-46f4-a364-16d1f1117afc",
   "metadata": {},
   "outputs": [
    {
     "name": "stdout",
     "output_type": "stream",
     "text": [
      "7201 6639 1031.4933013916016\n"
     ]
    }
   ],
   "source": [
    "print(\n",
    "    results.training_score,\n",
    "    results.inference_score,\n",
    "    end-start\n",
    ")"
   ]
  },
  {
   "cell_type": "code",
   "execution_count": null,
   "id": "91ee1757-918d-4dec-9c47-8f042482dd37",
   "metadata": {},
   "outputs": [],
   "source": []
  }
 ],
 "metadata": {
  "environment": {
   "kernel": "python3",
   "name": "tf2-gpu.2-11.m107",
   "type": "gcloud",
   "uri": "gcr.io/deeplearning-platform-release/tf2-gpu.2-11:m107"
  },
  "kernelspec": {
   "display_name": "Python 3 (ipykernel)",
   "language": "python",
   "name": "python3"
  },
  "language_info": {
   "codemirror_mode": {
    "name": "ipython",
    "version": 3
   },
   "file_extension": ".py",
   "mimetype": "text/x-python",
   "name": "python",
   "nbconvert_exporter": "python",
   "pygments_lexer": "ipython3",
   "version": "3.7.12"
  }
 },
 "nbformat": 4,
 "nbformat_minor": 5
}
